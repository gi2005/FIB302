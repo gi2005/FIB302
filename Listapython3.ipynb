{
  "nbformat": 4,
  "nbformat_minor": 0,
  "metadata": {
    "colab": {
      "provenance": [],
      "authorship_tag": "ABX9TyPGXqJZj+UlxnTDYQj3vvzj",
      "include_colab_link": true
    },
    "kernelspec": {
      "name": "python3",
      "display_name": "Python 3"
    },
    "language_info": {
      "name": "python"
    }
  },
  "cells": [
    {
      "cell_type": "markdown",
      "metadata": {
        "id": "view-in-github",
        "colab_type": "text"
      },
      "source": [
        "<a href=\"https://colab.research.google.com/github/gi2005/FIB302/blob/main/Listapython3.ipynb\" target=\"_parent\"><img src=\"https://colab.research.google.com/assets/colab-badge.svg\" alt=\"Open In Colab\"/></a>"
      ]
    },
    {
      "cell_type": "code",
      "execution_count": 1,
      "metadata": {
        "colab": {
          "base_uri": "https://localhost:8080/"
        },
        "id": "FshHIdZu478o",
        "outputId": "14c6b7db-ecf0-429b-eadc-f0dfac1147c9"
      },
      "outputs": [
        {
          "output_type": "stream",
          "name": "stdout",
          "text": [
            "Insira um número: 25\n",
            "O numero é impar.\n"
          ]
        }
      ],
      "source": [
        "# Inserir um número\n",
        "numero = int(input('Insira um número: '))\n",
        "\n",
        "# Numero impar ou par\n",
        "if numero % 2 == 0:\n",
        "  print('O numero é par.')\n",
        "else:\n",
        "  print('O numero é impar.')"
      ]
    },
    {
      "cell_type": "code",
      "source": [
        "# Inserir uma nota\n",
        "nota = float(input('insira uma nota (0-100): '))\n",
        "\n",
        "# Aprovado (>=60) ou reprovado (<60)\n",
        "if nota >= 60:\n",
        "  print('Aprovado')\n",
        "else:\n",
        "  print('Reprovado')"
      ],
      "metadata": {
        "colab": {
          "base_uri": "https://localhost:8080/"
        },
        "id": "VZA50jiQ6eUd",
        "outputId": "ec6b8757-8903-4df5-85bc-6cec326e5789"
      },
      "execution_count": 2,
      "outputs": [
        {
          "output_type": "stream",
          "name": "stdout",
          "text": [
            "insira uma nota (0-100): 70\n",
            "Aprovado\n"
          ]
        }
      ]
    },
    {
      "cell_type": "code",
      "source": [
        "import random\n",
        "\n",
        "# Numero aleatorio entre 1 e 100\n",
        "n_a = random.randint(1, 100)\n",
        "\n",
        "# Adivinhar o número\n",
        "while True:\n",
        "  # Chutar um numero\n",
        "  c = int(input('Adivinhe um numero entre 1 e 100: '))\n",
        "\n",
        "  # Ver se o chute foi certo\n",
        "  if c == n_a:\n",
        "    print('Você acertou')\n",
        "    break\n",
        "  # Falar se foi um chute alto ou baixo\n",
        "  elif c > n_a:\n",
        "    print('Muito alto')\n",
        "  else:\n",
        "    print('Seu chute foi muito baixo')"
      ],
      "metadata": {
        "colab": {
          "base_uri": "https://localhost:8080/"
        },
        "id": "OdzR2eXL7YNU",
        "outputId": "3f0e8716-2c75-4671-e64a-fd56df64a0bd"
      },
      "execution_count": 3,
      "outputs": [
        {
          "output_type": "stream",
          "name": "stdout",
          "text": [
            "Adivinhe um numero entre 1 e 100: 22\n",
            "Seu chute foi muito baixo\n",
            "Adivinhe um numero entre 1 e 100: 70\n",
            "Muito alto\n",
            "Adivinhe um numero entre 1 e 100: 50\n",
            "Seu chute foi muito baixo\n",
            "Adivinhe um numero entre 1 e 100: 60\n",
            "Muito alto\n",
            "Adivinhe um numero entre 1 e 100: 55\n",
            "Muito alto\n",
            "Adivinhe um numero entre 1 e 100: 53\n",
            "Muito alto\n",
            "Adivinhe um numero entre 1 e 100: 52\n",
            "Você acertou\n"
          ]
        }
      ]
    },
    {
      "cell_type": "code",
      "source": [
        "# Pede um numero inteiro positivo\n",
        "n = int(input('Insira um numero inteiro positivo: '))\n",
        "\n",
        "# Inicia o fatorial como 1\n",
        "f = 1\n",
        "\n",
        "# Calcula o fatorial usando um loop while\n",
        "while n > 0:\n",
        "  f *= n\n",
        "  n -= 1\n",
        "\n",
        "# Fatorial\n",
        "print(f'O fatorial de {n} é {f}')"
      ],
      "metadata": {
        "colab": {
          "base_uri": "https://localhost:8080/"
        },
        "id": "GzEjVNYS9Wn8",
        "outputId": "3ce253e4-28a7-4210-c9eb-ccf30879c8ae"
      },
      "execution_count": 4,
      "outputs": [
        {
          "output_type": "stream",
          "name": "stdout",
          "text": [
            "Insira um numero inteiro positivo: 2\n",
            "O fatorial de 0 é 2\n"
          ]
        }
      ]
    },
    {
      "cell_type": "code",
      "source": [
        "# Pedir uma string\n",
        "s = input('Digite uma string: ')\n",
        "\n",
        "# Converter a string para minusculas e remover os espaços\n",
        "s = s.lower().replace(\" \",\" \")\n",
        "\n",
        "# Averigua se a string é igual ao seu reverso\n",
        "if s == s[::-1]:\n",
        "  print('A string é um palíndromo.')\n",
        "else:\n",
        "  print('A string não é um palíndromo.')"
      ],
      "metadata": {
        "colab": {
          "base_uri": "https://localhost:8080/"
        },
        "id": "Y8HYCV-o-i0G",
        "outputId": "00968592-da5d-44d0-c110-cf39625e8a59"
      },
      "execution_count": 6,
      "outputs": [
        {
          "output_type": "stream",
          "name": "stdout",
          "text": [
            "Digite uma string: Amanhã\n",
            "A string não é um palíndromo.\n"
          ]
        }
      ]
    },
    {
      "cell_type": "code",
      "source": [
        "# Inserir um número\n",
        "n = int(input('Insira um numero: '))\n",
        "\n",
        "# Ver se o numero é maior que 1, se é divisível por algum numero entre 2 e a raiz quadrada do numero, se não for, o programa não responde\n",
        "if n > 1:\n",
        "  for i in range(2, int(numero ** 0.5) + 1):\n",
        "    if (n % i) == 0:\n",
        "      print(f'{n} não é um numero primo.')\n",
        "      break\n",
        "  else:\n",
        "      print(f'{n} é um numero primo.')\n",
        "else:\n",
        "    print(f'{n} não é um numero primo.')"
      ],
      "metadata": {
        "colab": {
          "base_uri": "https://localhost:8080/"
        },
        "id": "wajUPsnPAs7h",
        "outputId": "20a61d2e-0d8d-4f20-c180-b149511e13f9"
      },
      "execution_count": 13,
      "outputs": [
        {
          "output_type": "stream",
          "name": "stdout",
          "text": [
            "Insira um numero: 17\n",
            "17 é um numero primo.\n"
          ]
        }
      ]
    }
  ]
}