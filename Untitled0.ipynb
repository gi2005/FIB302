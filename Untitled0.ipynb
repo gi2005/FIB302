{
  "nbformat": 4,
  "nbformat_minor": 0,
  "metadata": {
    "colab": {
      "provenance": [],
      "authorship_tag": "ABX9TyNZTkAG4LdDTvBHhl8fMJD/",
      "include_colab_link": true
    },
    "kernelspec": {
      "name": "python3",
      "display_name": "Python 3"
    },
    "language_info": {
      "name": "python"
    }
  },
  "cells": [
    {
      "cell_type": "markdown",
      "metadata": {
        "id": "view-in-github",
        "colab_type": "text"
      },
      "source": [
        "<a href=\"https://colab.research.google.com/github/gi2005/FIB302/blob/main/Untitled0.ipynb\" target=\"_parent\"><img src=\"https://colab.research.google.com/assets/colab-badge.svg\" alt=\"Open In Colab\"/></a>"
      ]
    },
    {
      "cell_type": "code",
      "execution_count": 3,
      "metadata": {
        "colab": {
          "base_uri": "https://localhost:8080/"
        },
        "id": "Tjpik9iH-fyH",
        "outputId": "f7acaddf-a967-40be-89bd-2174beba09f2"
      },
      "outputs": [
        {
          "output_type": "stream",
          "name": "stdout",
          "text": [
            "----------------------------------------\n",
            "Lista inteira: [3, 5, 7, 9, 11]\n",
            "----------------------------------------\n",
            "----------------------------------------\n",
            " Terceiro elemento: 7\n",
            "----------------------------------------\n"
          ]
        }
      ],
      "source": [
        "# Lista com cinco números inteiros (1)\n",
        "j = [3, 5, 7, 9, 11]\n",
        "\n",
        "# Lista\n",
        "print(40*'-')\n",
        "print(f'Lista inteira: {j}')\n",
        "print(40*'-')\n",
        "\n",
        "# Terceiro elemento\n",
        "print(40*'-')\n",
        "print(f' Terceiro elemento: {j[2]}')\n",
        "print(40*'-')"
      ]
    },
    {
      "cell_type": "code",
      "source": [
        "# Lista vazia\n",
        "j = []\n",
        "\n",
        "# Adicionando três números inteiros\n",
        "j.append(6)\n",
        "j.append(8)\n",
        "j.append(10)\n",
        "\n",
        "# Estendendo a lista\n",
        "j.extend([12, 14])\n",
        "\n",
        "# Lista final\n",
        "print(35*'-')\n",
        "print(f'Lista final: {j}')\n",
        "print(35*'-')"
      ],
      "metadata": {
        "colab": {
          "base_uri": "https://localhost:8080/"
        },
        "id": "TWc6-E66BJ6g",
        "outputId": "2cfdbe34-07e7-4de1-eaf6-f2586848883a"
      },
      "execution_count": 4,
      "outputs": [
        {
          "output_type": "stream",
          "name": "stdout",
          "text": [
            "-----------------------------------\n",
            "Lista final: [6, 8, 10, 12, 14]\n",
            "-----------------------------------\n"
          ]
        }
      ]
    },
    {
      "cell_type": "code",
      "source": [
        "# Lista de 10 números inteiros\n",
        "b = [10, 20, 30, 40, 50, 60, 70, 80, 90, 100]\n",
        "\n",
        "# Primeiros cinco números\n",
        "print(50*'-')\n",
        "print(f'Os primeiros cinco números são: {b[:5]}')\n",
        "print(50*'-')\n",
        "\n",
        "# Últimos cinco números\n",
        "print(50*'-')\n",
        "print(f' Os últimos cinco números são: {b[5:]}')\n",
        "print(50*'-')"
      ],
      "metadata": {
        "colab": {
          "base_uri": "https://localhost:8080/"
        },
        "id": "Zl5xaiOsDCDV",
        "outputId": "42add3b6-99dd-4abe-c139-6b5652e35478"
      },
      "execution_count": 5,
      "outputs": [
        {
          "output_type": "stream",
          "name": "stdout",
          "text": [
            "--------------------------------------------------\n",
            "Os primeiros cinco números são: [10, 20, 30, 40, 50]\n",
            "--------------------------------------------------\n",
            "--------------------------------------------------\n",
            " Os últimos cinco números são: [60, 70, 80, 90, 100]\n",
            "--------------------------------------------------\n"
          ]
        }
      ]
    },
    {
      "cell_type": "code",
      "source": [
        "# Duas listas contendo a mesma quantidade de elementos\n",
        "g1 = [1, 2, 3, 4, 5, 6]\n",
        "g2 = [10, 11, 12, 13, 14, 15]\n",
        "\n",
        "# Adicionando os elementos correspondentes\n",
        "f = list(map(sum, zip(g1, g2)))\n",
        "\n",
        "# Resultado\n",
        "print(90*'-')\n",
        "print(f'Resultado da adição dos elementos: {f}')\n",
        "print(90*'-')"
      ],
      "metadata": {
        "colab": {
          "base_uri": "https://localhost:8080/"
        },
        "id": "ylyMHXPnEdUd",
        "outputId": "3d3aeb35-cc3d-402f-90c9-b9010697b29d"
      },
      "execution_count": 6,
      "outputs": [
        {
          "output_type": "stream",
          "name": "stdout",
          "text": [
            "------------------------------------------------------------------------------------------\n",
            "Resultado da adição dos elementos: [11, 13, 15, 17, 19, 21]\n",
            "------------------------------------------------------------------------------------------\n"
          ]
        }
      ]
    },
    {
      "cell_type": "code",
      "source": [
        "# Duas listas\n",
        "p1 = [25, 50, 75, 100]\n",
        "p2 = [15, 30, 45, 60]\n",
        "\n",
        "# Concatenando as listas\n",
        "p1.extend(p2)\n",
        "\n",
        "# Lista final\n",
        "print(50*'-')\n",
        "print(f'Lista final: {p1}')\n",
        "print(50*'-')"
      ],
      "metadata": {
        "colab": {
          "base_uri": "https://localhost:8080/"
        },
        "id": "tN8ej0vpFfA-",
        "outputId": "35c14355-b77e-4c03-ede5-12449852dd06"
      },
      "execution_count": 7,
      "outputs": [
        {
          "output_type": "stream",
          "name": "stdout",
          "text": [
            "--------------------------------------------------\n",
            "Lista final: [25, 50, 75, 100, 15, 30, 45, 60]\n",
            "--------------------------------------------------\n"
          ]
        }
      ]
    },
    {
      "cell_type": "code",
      "source": [
        "import numpy as np\n",
        "\n",
        "# Array de inteiros\n",
        "b_f = np.array([24, 46, 28, 92, 29])\n",
        "\n",
        "# Array\n",
        "print(40*'-')\n",
        "print(f' Array de inteiros: {b_f}')\n",
        "print(40*'-')"
      ],
      "metadata": {
        "colab": {
          "base_uri": "https://localhost:8080/"
        },
        "id": "HScJI-lYHAAQ",
        "outputId": "2e9661de-6b17-4de6-fc28-d680888d6de4"
      },
      "execution_count": 9,
      "outputs": [
        {
          "output_type": "stream",
          "name": "stdout",
          "text": [
            "----------------------------------------\n",
            " Array de inteiros: [24 46 28 92 29]\n",
            "----------------------------------------\n"
          ]
        }
      ]
    },
    {
      "cell_type": "code",
      "source": [
        "import numpy as np\n",
        "\n",
        "# Array de números de ponto flutuante\n",
        "i_j = np.array([2.3, 5.7, 1.4, 8.7, 0.7])\n",
        "\n",
        "# Array\n",
        "print(60*'-')\n",
        "print(f'Array de ponto flutuante: {i_j}')\n",
        "print(60*'-')\n",
        "\n",
        "# Terceiro elemento modificado\n",
        "i_j[2] = 4.1\n",
        "\n",
        "# Array modificado\n",
        "print(45*'-')\n",
        "print(f'Array modificado: {i_j}')\n",
        "print(45*'-')"
      ],
      "metadata": {
        "colab": {
          "base_uri": "https://localhost:8080/"
        },
        "id": "yJ2KPzCPIDcw",
        "outputId": "ba8bac18-43ca-4cbb-eb42-5b8b197a064d"
      },
      "execution_count": 10,
      "outputs": [
        {
          "output_type": "stream",
          "name": "stdout",
          "text": [
            "------------------------------------------------------------\n",
            "Array de ponto flutuante: [2.3 5.7 1.4 8.7 0.7]\n",
            "------------------------------------------------------------\n",
            "---------------------------------------------\n",
            "Array modificado: [2.3 5.7 4.1 8.7 0.7]\n",
            "---------------------------------------------\n"
          ]
        }
      ]
    },
    {
      "cell_type": "code",
      "source": [
        "import numpy as np\n",
        "\n",
        "# Dois arrays inteiros usando a biblioteca\n",
        "c1 = np.array([28, 5, 69, 48, 92])\n",
        "c2 = np.array([17, 9, 47, 38, 82])\n",
        "\n",
        "# Arrays de inteiros\n",
        "print(55*'-')\n",
        "print(f'Arrays: {c1}, {c2}')\n",
        "print(55*'-')\n",
        "\n",
        "# Adicionando os elementos\n",
        "b = c1 + c2\n",
        "\n",
        "# Resultado\n",
        "print(75*'-')\n",
        "print(f'Resultado da adição: {b}')\n",
        "print(75*'-')"
      ],
      "metadata": {
        "colab": {
          "base_uri": "https://localhost:8080/"
        },
        "id": "Sbgqb8IQJs1R",
        "outputId": "e1d10c54-90a6-42e0-9420-ca1984337486"
      },
      "execution_count": 11,
      "outputs": [
        {
          "output_type": "stream",
          "name": "stdout",
          "text": [
            "-------------------------------------------------------\n",
            "Arrays: [28  5 69 48 92], [17  9 47 38 82]\n",
            "-------------------------------------------------------\n",
            "---------------------------------------------------------------------------\n",
            "Resultado da adição: [ 45  14 116  86 174]\n",
            "---------------------------------------------------------------------------\n"
          ]
        }
      ]
    },
    {
      "cell_type": "code",
      "source": [
        "import numpy as np\n",
        "\n",
        "# Variáveis definidas\n",
        "v_i = 20 # Velocidade inicial (m/s)\n",
        "theta = np.radians(45) # Ângulo convertido para radianos\n",
        "g = 9.8 # Aceleração da gravidade (m/s^2)\n",
        "\n",
        "# Array para tempo\n",
        "tempo = np.array([0, 1, 2, 3, 4, 5]) # Tempo (s)\n",
        "\n",
        "# Cálculo para posições horizontal e vertical\n",
        "p_h = v_i * tempo * np.cos(theta)\n",
        "p_v = v_i * tempo * np.sin(theta) - 1/2 * g * tempo * 2\n",
        "\n",
        "#Posições horizontais e verticais\n",
        "for t, x, y in zip(tempo, p_h, p_v):\n",
        "  print(100*'-')\n",
        "  print(f'No tempo {t} segundos, a posição horizontal é {x:.2f} metros e a posição vertical é {y:.2f} metros')\n",
        "  print(100*'-')"
      ],
      "metadata": {
        "colab": {
          "base_uri": "https://localhost:8080/"
        },
        "id": "mSk0606RMEJW",
        "outputId": "34b5f4fb-0402-402c-dca6-7b7e1f84f89a"
      },
      "execution_count": 12,
      "outputs": [
        {
          "output_type": "stream",
          "name": "stdout",
          "text": [
            "----------------------------------------------------------------------------------------------------\n",
            "No tempo 0 segundos, a posição horizontal é 0.00 metros e a posição vertical é 0.00 metros\n",
            "----------------------------------------------------------------------------------------------------\n",
            "----------------------------------------------------------------------------------------------------\n",
            "No tempo 1 segundos, a posição horizontal é 14.14 metros e a posição vertical é 4.34 metros\n",
            "----------------------------------------------------------------------------------------------------\n",
            "----------------------------------------------------------------------------------------------------\n",
            "No tempo 2 segundos, a posição horizontal é 28.28 metros e a posição vertical é 8.68 metros\n",
            "----------------------------------------------------------------------------------------------------\n",
            "----------------------------------------------------------------------------------------------------\n",
            "No tempo 3 segundos, a posição horizontal é 42.43 metros e a posição vertical é 13.03 metros\n",
            "----------------------------------------------------------------------------------------------------\n",
            "----------------------------------------------------------------------------------------------------\n",
            "No tempo 4 segundos, a posição horizontal é 56.57 metros e a posição vertical é 17.37 metros\n",
            "----------------------------------------------------------------------------------------------------\n",
            "----------------------------------------------------------------------------------------------------\n",
            "No tempo 5 segundos, a posição horizontal é 70.71 metros e a posição vertical é 21.71 metros\n",
            "----------------------------------------------------------------------------------------------------\n"
          ]
        }
      ]
    },
    {
      "cell_type": "code",
      "source": [
        "import numpy as np\n",
        "import matplotlib.pyplot as plt\n",
        "\n",
        "# Constantes\n",
        "a = 1 # Amplitude\n",
        "omega = 2 * np.pi # Velocidade angular (rad/s)\n",
        "\n",
        "# Array para tempo (de 0 a 10 segundos, com passos de 0.1 segundo)\n",
        "tempo = np.arange(0, 10, 0.1)\n",
        "\n",
        "# Cálculo do deslocamento com a equação do movimento harmônico simples\n",
        "deslocamento = a * np.cos(omega * tempo)\n",
        "\n",
        "# Gráfico de deslocamento\n",
        "plt.plot(tempo, deslocamento)\n",
        "plt.title('Deslocamento em Movimento Harmônico Simples')\n",
        "plt.xlabel('Tempo (s)')\n",
        "plt.ylabel('Deslocamento')\n",
        "plt.grid(True)\n",
        "plt.show()"
      ],
      "metadata": {
        "colab": {
          "base_uri": "https://localhost:8080/",
          "height": 472
        },
        "id": "Q6kn5-4ySL1E",
        "outputId": "85717b1b-26d2-4fce-a8b1-6775417f9e5b"
      },
      "execution_count": 13,
      "outputs": [
        {
          "output_type": "display_data",
          "data": {
            "text/plain": [
              "<Figure size 640x480 with 1 Axes>"
            ],
            "image/png": "[encoded data removed]"
          },
          "metadata": {}
        }
      ]
    }
  ]
}